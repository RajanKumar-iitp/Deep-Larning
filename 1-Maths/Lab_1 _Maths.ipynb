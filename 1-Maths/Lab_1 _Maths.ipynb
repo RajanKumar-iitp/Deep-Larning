{
  "nbformat": 4,
  "nbformat_minor": 0,
  "metadata": {
    "colab": {
      "provenance": []
    },
    "kernelspec": {
      "name": "python3",
      "display_name": "Python 3"
    },
    "language_info": {
      "name": "python"
    }
  },
  "cells": [
    {
      "cell_type": "code",
      "execution_count": 24,
      "metadata": {
        "colab": {
          "base_uri": "https://localhost:8080/"
        },
        "id": "l0eR-QHZs-Qi",
        "outputId": "2c867d84-51b5-4670-e61f-a3d24e6e2cdf"
      },
      "outputs": [
        {
          "output_type": "stream",
          "name": "stdout",
          "text": [
            "The sum of two vectors is: [4 6 6] \n",
            "The product of two vectors is: 20\n",
            "The norm of vector [3 4 3] is: 5.830951894845301\n",
            "The cross product of two vectors is: [ 6 -6  2]\n"
          ]
        }
      ],
      "source": [
        "# Basic operation on vector\n",
        "import numpy as np\n",
        "\n",
        "v1=np.array([3,4,3])\n",
        "v2=np.array([1,2,3])\n",
        "\n",
        "## Addition\n",
        "v_add=v1+v2\n",
        "print(f\"The sum of two vectors is: {v_add} \")\n",
        "\n",
        "## Dot product\n",
        "v_prod=v1@v2\n",
        "print(f\"The product of two vectors is: {v_prod}\")\n",
        "\n",
        "## Magnitutde of a vector\n",
        "v_norm=np.linalg.norm(v1)\n",
        "print(f\"The norm of vector {v1} is: {v_norm}\")\n",
        "\n",
        "## Cross product of two vectors\n",
        "v_cross=np.cross(v1,v2)\n",
        "print(f\"The cross product of two vectors is: {v_cross}\")"
      ]
    },
    {
      "cell_type": "code",
      "source": [
        "import numpy as np\n",
        "import matplotlib.pyplot as plt\n",
        "\n",
        "X,Y =[0,0], [0,0]\n",
        "U,V =[3,1], [4,2]\n",
        "fig,ax=plt.subplots(figsize=(5,5))\n",
        "ax.quiver(X,Y,U,V,angles=\"xy\",scale_units='xy', scale=1, color=['red','blue'])\n",
        "ax.set_xlim(0,6)\n",
        "ax.set_ylim(0,6)\n",
        "plt.grid()\n",
        "\n",
        "ax.text(3,4, \"(3,4)\")\n",
        "ax.text(1,2,\"(1,2)\")\n"
      ],
      "metadata": {
        "colab": {
          "base_uri": "https://localhost:8080/",
          "height": 468
        },
        "id": "tYEK0eRVx1zo",
        "outputId": "997576f9-2b4d-45bd-a2d8-f89013083e9c"
      },
      "execution_count": 17,
      "outputs": [
        {
          "output_type": "execute_result",
          "data": {
            "text/plain": [
              "Text(1, 2, '(1,2)')"
            ]
          },
          "metadata": {},
          "execution_count": 17
        },
        {
          "output_type": "display_data",
          "data": {
            "text/plain": [
              "<Figure size 500x500 with 1 Axes>"
            ],
            "image/png": "[encoded data removed]"
          },
          "metadata": {}
        }
      ]
    },
    {
      "cell_type": "code",
      "source": [
        "## Angle between two vectors\n",
        "v1=np.array([3,4])\n",
        "v2=np.array([1,2])\n",
        "\n",
        "dot_prod=v1@v2\n",
        "v1_norm=np.linalg.norm(v1)\n",
        "v2_norm=np.linalg.norm(v2)\n",
        "\n",
        "angle=np.arccos(dot_prod/(v1_norm*v2_norm))\n",
        "print(f\"Angle between: {v1} and {v2} is: {np.degrees(angle)}\")"
      ],
      "metadata": {
        "colab": {
          "base_uri": "https://localhost:8080/"
        },
        "id": "xWIKKoej0bEz",
        "outputId": "db98aa2b-db00-4165-be98-bd7bdaeb9b4b"
      },
      "execution_count": 20,
      "outputs": [
        {
          "output_type": "stream",
          "name": "stdout",
          "text": [
            "Angle between: [3 4] and [1 2] is: 10.304846468766044\n"
          ]
        }
      ]
    },
    {
      "cell_type": "code",
      "source": [
        "## normalization of vector\n",
        "v=np.array([3,4])\n",
        "\n",
        "normalized_vec=v/np.linalg.norm(v)\n",
        "print(f\"Norm of {v} is: {np.linalg.norm(v)} and  norm of {normalized_vec} is : {np.linalg.norm(normalized_vec)}\")\n"
      ],
      "metadata": {
        "colab": {
          "base_uri": "https://localhost:8080/"
        },
        "id": "ybpiaQHH3kni",
        "outputId": "9444c413-b09a-489a-b319-77088a1cf1d0"
      },
      "execution_count": 21,
      "outputs": [
        {
          "output_type": "stream",
          "name": "stdout",
          "text": [
            "Norm of [3 4] is: 5.0 and  norm of [0.6 0.8] is : 1.0\n"
          ]
        }
      ]
    },
    {
      "cell_type": "code",
      "source": [
        "## Matrix operations\n",
        "A=np.array([[1,2],[3,4]])\n",
        "B=np.array([[5,6],[7,8]])\n",
        "print(f\"The sum of two matrix is: {A+B}\")\n",
        "print(f\"The elementwise product of two matrix is: {A*B}\")\n",
        "print(f\"The product of two matrix is: {A@B}\")\n",
        "\n",
        "A1=2*A\n",
        "print(f\"The product of 2 in matrix {A} is: {A1}\")\n",
        "\n",
        "A2=10+A\n",
        "print(f\"The sum of 10 in matrix {A} is: {A2}\")"
      ],
      "metadata": {
        "colab": {
          "base_uri": "https://localhost:8080/"
        },
        "id": "1RAMucXh6-Kv",
        "outputId": "69d8bdcb-fb0e-41ee-dcfe-be91993a84e9"
      },
      "execution_count": 32,
      "outputs": [
        {
          "output_type": "stream",
          "name": "stdout",
          "text": [
            "The sum of two matrix is: [[ 6  8]\n",
            " [10 12]]\n",
            "The elementwise product of two matrix is: [[ 5 12]\n",
            " [21 32]]\n",
            "The product of two matrix is: [[19 22]\n",
            " [43 50]]\n",
            "The product of 2 in matrix [[1 2]\n",
            " [3 4]] is: [[2 4]\n",
            " [6 8]]\n",
            "The sum of 10 in matrix [[1 2]\n",
            " [3 4]] is: [[11 12]\n",
            " [13 14]]\n"
          ]
        }
      ]
    },
    {
      "cell_type": "code",
      "source": [
        "## special matrix\n",
        "\n",
        "I=np.eye(4)\n",
        "print(f'Identity matrix of order {4} is {I}')\n",
        "\n",
        "Z=np.zeros((2,3))\n",
        "print(f'zero matrix of order {2}*{3} is\\n {Z}')"
      ],
      "metadata": {
        "colab": {
          "base_uri": "https://localhost:8080/"
        },
        "id": "_-utP7L68XSr",
        "outputId": "faad0944-a411-46fa-e5b6-eb4bbc186009"
      },
      "execution_count": 37,
      "outputs": [
        {
          "output_type": "stream",
          "name": "stdout",
          "text": [
            "Identity matrix of order 4 is [[1. 0. 0. 0.]\n",
            " [0. 1. 0. 0.]\n",
            " [0. 0. 1. 0.]\n",
            " [0. 0. 0. 1.]]\n",
            "zero matrix of order 2*3 is\n",
            " [[0. 0. 0.]\n",
            " [0. 0. 0.]]\n"
          ]
        }
      ]
    },
    {
      "cell_type": "code",
      "source": [
        "## rank of matrix\n",
        "A=np.array([[1,2],[3,4]])\n",
        "rank_A=np.linalg.matrix_rank(A)\n",
        "print(rank_A)\n",
        "det_A=np.linalg.det(A)\n",
        "print(det_A)\n",
        "A.transpose()\n"
      ],
      "metadata": {
        "colab": {
          "base_uri": "https://localhost:8080/"
        },
        "id": "XLVe5QAX9H8s",
        "outputId": "ec4448e0-e948-4f64-9d1e-9953e2393e2c"
      },
      "execution_count": 43,
      "outputs": [
        {
          "output_type": "stream",
          "name": "stdout",
          "text": [
            "2\n",
            "-2.0000000000000004\n"
          ]
        },
        {
          "output_type": "execute_result",
          "data": {
            "text/plain": [
              "array([[1, 3],\n",
              "       [2, 4]])"
            ]
          },
          "metadata": {},
          "execution_count": 43
        }
      ]
    },
    {
      "cell_type": "code",
      "source": [
        "## Solution of system of linear equation\n",
        "## Ax=b\n",
        "A=np.array([[1,2],[3,4]])\n",
        "b=np.array([5,6])\n",
        "x=np.linalg.solve(A,b)\n",
        "print(f\"Solution of system of linear equation is {x}\")"
      ],
      "metadata": {
        "colab": {
          "base_uri": "https://localhost:8080/"
        },
        "id": "HnC6ptS89qbd",
        "outputId": "a03a04a2-f481-424f-ec2b-85678eeb6ac7"
      },
      "execution_count": 47,
      "outputs": [
        {
          "output_type": "stream",
          "name": "stdout",
          "text": [
            "Solution of system of linear equation is [-4.   4.5]\n"
          ]
        }
      ]
    },
    {
      "cell_type": "code",
      "source": [
        "import random\n",
        "\n",
        "Com_Gen=random.randint(1,100)\n",
        "while True:\n",
        " user_input=int(input('Enter any number between 0 to 100: '))\n",
        " if user_input<0 or user_input>100:\n",
        "  print('Enter the vailid number')\n",
        " else:\n",
        "  if Com_Gen>user_input:\n",
        "    print('The number you have entered is too low')\n",
        "  elif Com_Gen<user_input:\n",
        "    print('The number you have entered is too high')\n",
        "  else:\n",
        "    print(f'Generated number is same as your input: {Com_Gen}')\n",
        "    break"
      ],
      "metadata": {
        "id": "lofaXxgKInlu"
      },
      "execution_count": null,
      "outputs": []
    },
    {
      "cell_type": "code",
      "source": [
        "import random\n",
        "emojis={'r':'🪨', 'p':'📄','s': '✂️'}\n",
        "choices=('r','p','s')\n",
        "while True:\n",
        "    user_choice=input('Enter your choice (r,p,s):  ').lower()\n",
        "    computer_choice=random.choice(choices)\n",
        "    if user_choice=='r' or user_choice=='p' or user_choice=='s':\n",
        "          print(f'You have chosen {emojis[user_choice]}')\n",
        "          print(f'Computer has chosen {emojis[computer_choice]}')\n",
        "          if user_choice==computer_choice:\n",
        "            print('Game is tied')\n",
        "          elif (user_choice=='r' and computer_choice=='s') or (user_choice=='p' and computer_choice=='r')\\\n",
        "            or (user_choice=='s' and computer_choice=='p'):\n",
        "            print('You won')\n",
        "          else:\n",
        "            print('You Lost')\n",
        "          should_continue=input('Do you want to play again? (y/n) : ').lower()\n",
        "          if should_continue=='n':\n",
        "            print('Thank you for playing')\n",
        "            break\n",
        "    else:\n",
        "      print('invailid choice')"
      ],
      "metadata": {
        "id": "tUwjBvb-I13N"
      },
      "execution_count": null,
      "outputs": []
    }
  ]
}